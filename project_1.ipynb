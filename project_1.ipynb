{
 "cells": [
  {
   "cell_type": "markdown",
   "id": "5fe96657",
   "metadata": {},
   "source": [
    "## ME447 Project 1\n",
    "#### Amanda Schultz (amanda36) and Avanthi Obadage (obadage2)"
   ]
  },
  {
   "cell_type": "markdown",
   "id": "08fb0ed5",
   "metadata": {},
   "source": [
    "### 2. 1/0 Knapsack Probelm \n",
    "#### Genetic Algorithm version"
   ]
  },
  {
   "cell_type": "code",
   "execution_count": 1,
   "id": "9d9c91f7",
   "metadata": {},
   "outputs": [],
   "source": [
    "#initialize \n",
    "import numpy as np\n",
    "from math import comb\n",
    "A_data = np.load(\"A.npz\") #dict format: n_items, capacity, item_values, item_weights\n",
    "B_data = np.load(\"B.npz\")"
   ]
  },
  {
   "cell_type": "code",
   "execution_count": 20,
   "id": "e1a2522e",
   "metadata": {},
   "outputs": [],
   "source": [
    "#Given\n",
    "n_items = A_data[\"n_items\"]\n",
    "capacity = A_data[\"capacity\"]\n",
    "values = np.array(A_data[\"item_values\"])\n",
    "weights = np.array(A_data[\"item_weights\"])\n"
   ]
  },
  {
   "cell_type": "markdown",
   "id": "ddc3931d",
   "metadata": {},
   "source": [
    "#### Representation \n",
    "##### Solutions are binary vectors; [1] is included and [0] is excluded"
   ]
  },
  {
   "cell_type": "code",
   "execution_count": null,
   "id": "906fc7f0",
   "metadata": {},
   "outputs": [
    {
     "name": "stdout",
     "output_type": "stream",
     "text": [
      "Best solution: [0 1 1 0 0 0 0 1 0 0 0 0 0 0 0 1 0 1 1 0 0 0 1 0 1 1 1 1 1 1 1 0 0 1 1 1 0\n",
      " 0 0 1 0 0 0 0 0 1 0 1 1 0]\n",
      "Total value: 0\n"
     ]
    }
   ],
   "source": [
    "# Representation\n",
    "pop_size = 50 # how big is the population?\n",
    "population = np.random.randint(2, size=(pop_size, n_items)) #some inital population with random objects\n",
    "\n",
    "#Fitness\n",
    "def fitness(individual):\n",
    "    \"\"\"\n",
    "    A function that calculates the weight and value of an individual solution (parent) from the population\n",
    "    \"\"\"\n",
    "    total_weight = np.sum(individual * weights)\n",
    "    total_value = np.sum(individual * values)\n",
    "    if total_weight > capacity:\n",
    "        return 0  # overweight \n",
    "    return total_value\n",
    "\n",
    "#Deterministic Variation Selection\n",
    "num_parents = pop_size // 2 #next generation is half of previous\n",
    "def select_parents(population, num_parents):\n",
    "    \"\"\"\n",
    "    Selects the top solutions (parents) with highest fitness.\n",
    "    \"\"\"\n",
    "    population = np.array(population)  # ensure it's an array\n",
    "    fitness_vals = np.array([fitness(ind) for ind in population])\n",
    "    top_idx = np.argsort(fitness_vals)[-num_parents:]  # largest fitness\n",
    "    top_idx = top_idx[::-1]  \n",
    "    return population[top_idx]\n",
    "\n",
    "#Recombination\n",
    "def crossover(parents, pop_size):\n",
    "    \"\"\"\n",
    "    Crosses best parents to make offspring (new solutions) with (hopefully) better fitness\n",
    "    \"\"\"\n",
    "    n_items = parents.shape[1]\n",
    "    offspring = []\n",
    "    while len(offspring) < pop_size:\n",
    "        for i in range(len(parents)//2):\n",
    "            p1 = parents[i]\n",
    "            p2 = parents[-(i+1)]\n",
    "            point = np.random.randint(1, n_items)\n",
    "            c1 = np.concatenate([p1[:point], p2[point:]])\n",
    "            c2 = np.concatenate([p2[:point], p1[point:]])\n",
    "            offspring.append(c1)\n",
    "            if len(offspring) < pop_size:\n",
    "                offspring.append(c2)\n",
    "    return np.array(offspring[:pop_size])\n",
    "\n",
    "#Mutation\n",
    "mutation_prob = 0.05 #some probability that a bit will flip \n",
    "def mutate(offspring, mutation_prob):\n",
    "    \"\"\"\n",
    "    Randomly decides when a bit will flip to escape any local minima\n",
    "    \"\"\"\n",
    "    mutation = np.random.rand(*offspring.shape) < mutation_prob\n",
    "    return np.logical_xor(offspring, mutation).astype(int)\n",
    "\n",
    "#Environmental Selection\n",
    "def environmental_selection(offspring, pop_size):\n",
    "    \"\"\"\n",
    "    Selects the top offspring individuals to form the next generation.\n",
    "    \"\"\"\n",
    "    offspring = np.array(offspring) \n",
    "    fitness_vals = np.array([fitness(ind) for ind in offspring])\n",
    "    top_idx = np.argsort(fitness_vals)[-pop_size:]  # largest fitness\n",
    "    return offspring[top_idx]\n",
    "\n",
    "\n",
    "# Run simulation!\n",
    "generations = 50\n",
    "\n",
    "for gen in range(generations):\n",
    "    parents = select_parents(population, num_parents)\n",
    "    \n",
    "    # 4. Crossover\n",
    "    offspring = crossover(parents, pop_size * 2)  # create extra to select from\n",
    "    \n",
    "    # 5. Mutation\n",
    "    offspring = mutate(offspring, mutation_prob)\n",
    "    \n",
    "    # 6. Environmental selection (elitist)\n",
    "    population = environmental_selection(offspring, pop_size)\n",
    "\n",
    "# Solutions\n",
    "fitness_vals = np.array([fitness(ind) for ind in population])\n",
    "best_idx = np.argmax(fitness_vals)\n",
    "best_solution = population[best_idx]\n",
    "best_value = fitness_vals[best_idx]\n",
    "\n",
    "print(\"Best solution:\", best_solution)\n",
    "print(\"Total value:\", best_value)\n"
   ]
  },
  {
   "cell_type": "markdown",
   "id": "d1f66856",
   "metadata": {},
   "source": [
    "### 3. Minima of the Parabola\n",
    "#### Genetic Algorithm version"
   ]
  },
  {
   "cell_type": "code",
   "execution_count": 3,
   "id": "8a6129d6",
   "metadata": {},
   "outputs": [],
   "source": [
    "#Initialization\n",
    "import numpy as np\n",
    "SEED = 42\n",
    "rng = np.random.default_rng(seed=SEED)"
   ]
  },
  {
   "cell_type": "code",
   "execution_count": 4,
   "id": "e75e2f25",
   "metadata": {},
   "outputs": [],
   "source": [
    "#Representation\n",
    "pop_size = 30\n",
    "population = rng.uniform(-10,10, size = pop_size)\n",
    "num_parents = pop_size//2\n",
    "\n",
    "def parabola_problem(individual):\n",
    "    return 10*individual**2"
   ]
  },
  {
   "cell_type": "code",
   "execution_count": null,
   "id": "33adaa91",
   "metadata": {},
   "outputs": [
    {
     "name": "stdout",
     "output_type": "stream",
     "text": [
      "gen 0 fitness =  0.00022944675107733516\n",
      "parents =  [-3.46925335e-05  3.42912103e-04  3.69358404e-04 -6.37027433e-04\n",
      " -7.93998830e-04 -1.02637297e-03 -1.02637297e-03 -1.20843883e-03\n",
      " -1.20843883e-03 -2.31592933e-03  2.37452221e-03  2.37452221e-03\n",
      "  2.66530059e-03  2.75212685e-03 -2.82560894e-03]\n",
      "offspring =  [-9.10185902e-04 -1.92599095e-03 -9.10185902e-04 -4.14345682e-04\n",
      "  7.71844007e-04  2.37452221e-03 -4.32763364e-04 -1.92599095e-03\n",
      "  1.35871716e-03  7.90261689e-04  2.51991140e-03  1.54109785e-04\n",
      " -2.57076913e-03 -1.17531093e-03 -9.73285461e-04 -9.86508612e-04\n",
      "  2.56332453e-03  1.31530403e-03 -6.37027433e-04 -3.28507285e-04\n",
      "  2.51991140e-03  1.51732950e-03  1.35871716e-03 -1.55496408e-03\n",
      "  1.35871716e-03 -3.46925335e-05  1.67332935e-04  1.74685634e-04\n",
      " -8.01541702e-05 -1.73131818e-03  9.35650882e-04 -3.35859983e-04\n",
      "  2.51991140e-03 -3.67410449e-05  1.35871716e-03  2.51991140e-03\n",
      "  2.66530059e-03 -5.30532754e-04 -8.31700204e-04  3.42912103e-04\n",
      "  5.83041688e-04  5.83041688e-04 -1.76218408e-03  1.50410635e-03\n",
      " -3.28507285e-04  2.51991140e-03  1.67332935e-04 -4.14345682e-04\n",
      "  1.35871716e-03 -2.01702388e-03  2.92964407e-05 -6.21565683e-04]\n",
      "offspring population =  [ 7.71844007e-04  1.74685634e-04 -4.32763364e-04 -2.57076913e-03\n",
      " -9.73285461e-04 -4.14345682e-04  1.35871716e-03 -1.92599095e-03\n",
      " -1.73131818e-03  1.54109785e-04  2.51991140e-03 -9.86508612e-04\n",
      "  2.51991140e-03  1.31530403e-03 -1.55496408e-03  1.35871716e-03\n",
      " -8.01541702e-05 -1.17531093e-03 -9.10185902e-04 -9.10185902e-04\n",
      "  1.51732950e-03  1.35871716e-03 -6.37027433e-04 -3.28507285e-04\n",
      "  2.56332453e-03  2.37452221e-03  1.67332935e-04  7.90261689e-04\n",
      " -1.92599095e-03 -3.46925335e-05]\n",
      "off_fit =  2.0354737302348642e-05\n"
     ]
    }
   ],
   "source": [
    "#Calculate Fitness\n",
    "def fitness(pop, problem):\n",
    "    return [problem(element) for element in population]\n",
    "\n",
    "#Select Parents\n",
    "def select_fittest(pop, pop_fitness, num_par):\n",
    "    sorted_ind = np.argsort(pop_fitness)\n",
    "    chosen_ind = sorted_ind[:num_par]\n",
    "    chosen_parents = pop[chosen_ind]\n",
    "    return chosen_parents\n",
    "\n",
    "#Crossover to generate offspring, taking the average between two randomly selected parents from the set\n",
    "def crossover(parents,num_par, num_off):\n",
    "    offspring = np.empty(num_off)\n",
    "    for n in range(num_off):\n",
    "        parent1_idx, parent2_idx = rng.choice(np.arange(num_par), size = 2, replace = True)\n",
    "        offspring[n] = (parents[parent1_idx] + parents[parent2_idx])/2\n",
    "    return offspring\n",
    "\n",
    "#Mutate offspring, using the average\n",
    "def mutate(offspring, prob):\n",
    "    #mutation options? generate a new random number altogether? add some random number less than one to chosen children?\n",
    "    \n",
    "    return\n"
   ]
  },
  {
   "cell_type": "code",
   "execution_count": null,
   "id": "8b4668c0",
   "metadata": {},
   "outputs": [],
   "source": []
  }
 ],
 "metadata": {
  "kernelspec": {
   "display_name": "ME447",
   "language": "python",
   "name": "python3"
  },
  "language_info": {
   "codemirror_mode": {
    "name": "ipython",
    "version": 3
   },
   "file_extension": ".py",
   "mimetype": "text/x-python",
   "name": "python",
   "nbconvert_exporter": "python",
   "pygments_lexer": "ipython3",
   "version": "3.11.13"
  }
 },
 "nbformat": 4,
 "nbformat_minor": 5
}
