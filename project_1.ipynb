{
 "cells": [
  {
   "cell_type": "markdown",
   "id": "5fe96657",
   "metadata": {},
   "source": [
    "## ME447 Project 1\n",
    "#### Amanda Schultz (amanda36) and Avanthi Obadage (obadage2)"
   ]
  },
  {
   "cell_type": "markdown",
   "id": "08fb0ed5",
   "metadata": {},
   "source": [
    "### 2. 1/0 Knapsack Probelm "
   ]
  },
  {
   "cell_type": "code",
   "execution_count": null,
   "id": "9d9c91f7",
   "metadata": {},
   "outputs": [],
   "source": [
    "#initialize \n",
    "import numpy as np\n",
    "A_data = np.load(\"A.npz\") #dict format: n_items, capacity, item_values, item_weights\n",
    "B_data = np.load(\"B.npz\")"
   ]
  },
  {
   "cell_type": "code",
   "execution_count": null,
   "id": "e1a2522e",
   "metadata": {},
   "outputs": [],
   "source": [
    "# GA version\n",
    "\n"
   ]
  }
 ],
 "metadata": {
  "kernelspec": {
   "display_name": "Python 3",
   "language": "python",
   "name": "python3"
  },
  "language_info": {
   "codemirror_mode": {
    "name": "ipython",
    "version": 3
   },
   "file_extension": ".py",
   "mimetype": "text/x-python",
   "name": "python",
   "nbconvert_exporter": "python",
   "pygments_lexer": "ipython3",
   "version": "3.12.10"
  }
 },
 "nbformat": 4,
 "nbformat_minor": 5
}
